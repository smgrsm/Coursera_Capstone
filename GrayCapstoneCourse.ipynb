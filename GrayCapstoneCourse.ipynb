
# coding: utf-8

# <h1>This notebook will be mainly used for the capstone project</h1>

# In[1]:


import pandas as pd
import numpy as np


# In[2]:


print("Hello Capstone Project Course!")

