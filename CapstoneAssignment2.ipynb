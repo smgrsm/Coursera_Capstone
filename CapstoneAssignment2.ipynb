{
 "cells": [
  {
   "cell_type": "markdown",
   "metadata": {},
   "source": [
    "<h1> Coursera Data Science Capstone Course #9</h1>\n",
    "\n",
    "<h2> Assignment #2 - S.Gray</h2>"
   ]
  },
  {
   "cell_type": "markdown",
   "metadata": {},
   "source": [
    "<hr>\n",
    "<h3 style=\"color:blue\">Assignment Requirements:</h1>\n",
    "<h5>\n",
    "    <div>\n",
    "        <ol>\n",
    "    <li>Start by creating a new Notebook for this assignment.</li>\n",
    "    <li>Use the Notebook to build the code to scrape the following Wikipedia page, https://en.wikipedia.org/wiki/List_of_postal_codes_of_Canada:_M, in order to obtain the data that is in the table of postal codes and to transform the data into a pandas dataframe like the one shown.</li>\n",
    "    <li>To create the dataframe:\n",
    "        <ol>\n",
    "    <li> The dataframe will consist of three columns: PostalCode, Borough, and Neighborhood</li>\n",
    "    <li> Only process the cells that have an assigned borough. Ignore cells with a borough that is Not assigned.</li>\n",
    "    <li> More than one neighborhood can exist in one postal code area. For example, in the table on the Wikipedia page, you will notice that M5A is listed twice and has two neighborhoods: Harbourfront and Regent Park. These two rows will be combined into one row with the neighborhoods separated with a comma as shown in row 11 in the above table.</li>\n",
    "    <li> If a cell has a borough but a Not assigned neighborhood, then the neighborhood will be the same as the borough. So for the 9th cell in the table on the Wikipedia page, the value of the Borough and the Neighborhood columns will be Queen's Park.</li>\n",
    "    <li> Clean your Notebook and add Markdown cells to explain your work and any assumptions you are making.</li>\n",
    "    <li> In the last cell of your notebook, use the .shape method to print the number of rows of your dataframe.</li>\n",
    "        </ol>\n",
    "    <li> Submit a link to your Notebook on your Github repository. (10 marks)</li>\n",
    "       </ol>\n",
    "<hr>"
   ]
  },
  {
   "cell_type": "code",
   "execution_count": 1,
   "metadata": {},
   "outputs": [
    {
     "name": "stdout",
     "output_type": "stream",
     "text": [
      "2018-10-17 03:53:25.796971\n"
     ]
    }
   ],
   "source": [
    "# show date and time\n",
    "import datetime\n",
    "print(datetime.datetime.now())"
   ]
  },
  {
   "cell_type": "markdown",
   "metadata": {},
   "source": [
    "<h5>1. Start by creating a new Notebook for this assignment; saved as CapstoneAssignment2.ipynb.</h5>"
   ]
  },
  {
   "cell_type": "code",
   "execution_count": 2,
   "metadata": {},
   "outputs": [],
   "source": [
    "# import libraries\n",
    "import pandas as pd\n",
    "from bs4 import BeautifulSoup as soup\n",
    "from urllib.request import urlopen as uReq"
   ]
  },
  {
   "cell_type": "markdown",
   "metadata": {},
   "source": [
    "<h5>2. Use the Notebook to build the code to scrape the Wikipedia page into a pandas dataframe.</h5>"
   ]
  },
  {
   "cell_type": "code",
   "execution_count": 3,
   "metadata": {},
   "outputs": [],
   "source": [
    "my_url='https://en.wikipedia.org/wiki/List_of_postal_codes_of_Canada:_M'\n",
    "\n",
    "# open connection, grab the page\n",
    "uClient = uReq(my_url)\n",
    "page_html = uClient.read()\n",
    "uClient.close()"
   ]
  },
  {
   "cell_type": "code",
   "execution_count": 4,
   "metadata": {},
   "outputs": [],
   "source": [
    "# parse html data\n",
    "page_soup = soup(page_html, \"html.parser\")"
   ]
  },
  {
   "cell_type": "markdown",
   "metadata": {},
   "source": [
    "<h5>Use BeautifulSoup library to find elements within the DOM</h5>"
   ]
  },
  {
   "cell_type": "code",
   "execution_count": 5,
   "metadata": {},
   "outputs": [
    {
     "data": {
      "text/plain": [
       "<h1 class=\"firstHeading\" id=\"firstHeading\" lang=\"en\">List of postal codes of Canada: M</h1>"
      ]
     },
     "execution_count": 5,
     "metadata": {},
     "output_type": "execute_result"
    }
   ],
   "source": [
    "# find the first h1 heading in the web page\n",
    "page_soup.h1"
   ]
  },
  {
   "cell_type": "code",
   "execution_count": 6,
   "metadata": {},
   "outputs": [
    {
     "data": {
      "text/plain": [
       "<p>This is a list of <a href=\"/wiki/Postal_codes_in_Canada\" title=\"Postal codes in Canada\">postal codes in Canada</a> where the first letter is M. Postal codes beginning with M are located within the city of <a href=\"/wiki/Toronto\" title=\"Toronto\">Toronto</a> in the province of <a href=\"/wiki/Ontario\" title=\"Ontario\">Ontario</a>. Only the first three characters are listed, corresponding to the Forward Sortation Area.\n",
       "</p>"
      ]
     },
     "execution_count": 6,
     "metadata": {},
     "output_type": "execute_result"
    }
   ],
   "source": [
    "# find the first element of type p (paragraph)\n",
    "page_soup.p"
   ]
  },
  {
   "cell_type": "code",
   "execution_count": 7,
   "metadata": {},
   "outputs": [
    {
     "data": {
      "text/plain": [
       "{'class': ['wikitable', 'sortable']}"
      ]
     },
     "execution_count": 7,
     "metadata": {},
     "output_type": "execute_result"
    }
   ],
   "source": [
    "# find the attributes of the element of type table \n",
    "table = page_soup.find('table').attrs                              # .find will find 1st x, .findAll will find ALL x's\n",
    "table"
   ]
  },
  {
   "cell_type": "code",
   "execution_count": 8,
   "metadata": {},
   "outputs": [
    {
     "data": {
      "text/plain": [
       "290"
      ]
     },
     "execution_count": 8,
     "metadata": {},
     "output_type": "execute_result"
    }
   ],
   "source": [
    "# show count of all rows in the table \n",
    "table = page_soup.find('table', class_='wikitable sortable')\n",
    "rows = table.find_all('tr')\n",
    "len(rows)"
   ]
  },
  {
   "cell_type": "code",
   "execution_count": 9,
   "metadata": {},
   "outputs": [
    {
     "data": {
      "text/plain": [
       "<tr>\n",
       "<th>Postcode</th>\n",
       "<th>Borough</th>\n",
       "<th>Neighbourhood\n",
       "</th></tr>"
      ]
     },
     "execution_count": 9,
     "metadata": {},
     "output_type": "execute_result"
    }
   ],
   "source": [
    "# find the first element of type tr (table row)\n",
    "page_soup.tr"
   ]
  },
  {
   "cell_type": "code",
   "execution_count": 10,
   "metadata": {},
   "outputs": [
    {
     "data": {
      "text/plain": [
       "[<th>Postcode</th>, <th>Borough</th>, <th>Neighbourhood\n",
       " </th>]"
      ]
     },
     "execution_count": 10,
     "metadata": {},
     "output_type": "execute_result"
    }
   ],
   "source": [
    "#Column labels of Web Page Table (Before)\n",
    "labels = table.find_all('th')\n",
    "labels[0:]"
   ]
  },
  {
   "cell_type": "code",
   "execution_count": 11,
   "metadata": {},
   "outputs": [
    {
     "data": {
      "text/plain": [
       "<tr>\n",
       "<td>M3B</td>\n",
       "<td><a href=\"/wiki/North_York\" title=\"North York\">North York</a></td>\n",
       "<td>Don Mills North\n",
       "</td></tr>"
      ]
     },
     "execution_count": 11,
     "metadata": {},
     "output_type": "execute_result"
    }
   ],
   "source": [
    "# Show sample row\n",
    "sample = table.find_all('tr')\n",
    "sample[15]"
   ]
  },
  {
   "cell_type": "code",
   "execution_count": 12,
   "metadata": {},
   "outputs": [],
   "source": [
    "# rem before submitting\n",
    "# table\n",
    "############################################\n",
    "# Sample output (so I don't have to re-run)\n",
    "# <table class=\"wikitable sortable\">\n",
    "# <tbody><tr>\n",
    "# <th>Postcode</th>\n",
    "# <th>Borough</th>\n",
    "# <th>Neighbourhood\n",
    "# </th></tr>\n",
    "# <tr>\n",
    "# <td>M1A</td>\n",
    "# <td>Not assigned</td>\n",
    "# <td>Not assigned\n",
    "# </td></tr>\n",
    "# <tr>\n",
    "# <td>M2A</td>\n",
    "# <td>Not assigned</td>\n",
    "# <td>Not assigned\n",
    "# </td></tr>\n",
    "# <tr>\n",
    "# <td>M3A</td>\n",
    "# <td><a href=\"/wiki/North_York\" title=\"North York\">North York</a></td>\n",
    "# <td><a href=\"/wiki/Parkwoods\" title=\"Parkwoods\">Parkwoods</a>\n",
    "# </td></tr>"
   ]
  },
  {
   "cell_type": "code",
   "execution_count": 13,
   "metadata": {},
   "outputs": [],
   "source": [
    "# find all 3rd elements of type td (table data)\n",
    "# page_soup.findAll('td')[2::3]"
   ]
  },
  {
   "cell_type": "code",
   "execution_count": 14,
   "metadata": {},
   "outputs": [],
   "source": [
    "# not working....need to revisit\n",
    "# find all elements of type tr (table row) and td (table data) that does not have value \"Not assigned\"\n",
    "#def filter_rows(tag):\n",
    "#    return tag.name == \"tr\" and \\\n",
    "#         td[2::3] is not \"Not assigned\"\n",
    "#\n",
    "#for row in page_soup.find_all(filter_rows):\n",
    "#    print([td.get_text(strip=True) for td in row.find_all(\"td\")])"
   ]
  },
  {
   "cell_type": "code",
   "execution_count": 15,
   "metadata": {},
   "outputs": [
    {
     "name": "stdout",
     "output_type": "stream",
     "text": [
      "[]\n",
      "['M1A', 'Not assigned', 'Not assigned']\n",
      "['M2A', 'Not assigned', 'Not assigned']\n",
      "['M3A', 'North York', 'Parkwoods']\n",
      "['M4A', 'North York', 'Victoria Village']\n",
      "['M5A', 'Downtown Toronto', 'Harbourfront']\n",
      "['M5A', 'Downtown Toronto', 'Regent Park']\n",
      "['M6A', 'North York', 'Lawrence Heights']\n",
      "['M6A', 'North York', 'Lawrence Manor']\n",
      "['M7A', \"Queen's Park\", 'Not assigned']\n",
      "['M8A', 'Not assigned', 'Not assigned']\n",
      "['M9A', 'Etobicoke', 'Islington Avenue']\n",
      "['M1B', 'Scarborough', 'Rouge']\n",
      "['M1B', 'Scarborough', 'Malvern']\n",
      "['M2B', 'Not assigned', 'Not assigned']\n",
      "['M3B', 'North York', 'Don Mills North']\n",
      "['M4B', 'East York', 'Woodbine Gardens']\n",
      "['M4B', 'East York', 'Parkview Hill']\n",
      "['M5B', 'Downtown Toronto', 'Ryerson']\n",
      "['M5B', 'Downtown Toronto', 'Garden District']\n",
      "['M6B', 'North York', 'Glencairn']\n",
      "['M7B', 'Not assigned', 'Not assigned']\n",
      "['M8B', 'Not assigned', 'Not assigned']\n",
      "['M9B', 'Etobicoke', 'Cloverdale']\n",
      "['M9B', 'Etobicoke', 'Islington']\n",
      "['M9B', 'Etobicoke', 'Martin Grove']\n",
      "['M9B', 'Etobicoke', 'Princess Gardens']\n",
      "['M9B', 'Etobicoke', 'West Deane Park']\n",
      "['M1C', 'Scarborough', 'Highland Creek']\n",
      "['M1C', 'Scarborough', 'Rouge Hill']\n",
      "['M1C', 'Scarborough', 'Port Union']\n",
      "['M2C', 'Not assigned', 'Not assigned']\n",
      "['M3C', 'North York', 'Flemingdon Park']\n",
      "['M3C', 'North York', 'Don Mills South']\n",
      "['M4C', 'East York', 'Woodbine Heights']\n",
      "['M5C', 'Downtown Toronto', 'St. James Town']\n",
      "['M6C', 'York', 'Humewood-Cedarvale']\n",
      "['M7C', 'Not assigned', 'Not assigned']\n",
      "['M8C', 'Not assigned', 'Not assigned']\n",
      "['M9C', 'Etobicoke', 'Bloordale Gardens']\n",
      "['M9C', 'Etobicoke', 'Eringate']\n",
      "['M9C', 'Etobicoke', 'Markland Wood']\n",
      "['M9C', 'Etobicoke', 'Old Burnhamthorpe']\n",
      "['M1E', 'Scarborough', 'Guildwood']\n",
      "['M1E', 'Scarborough', 'Morningside']\n",
      "['M1E', 'Scarborough', 'West Hill']\n",
      "['M2E', 'Not assigned', 'Not assigned']\n",
      "['M3E', 'Not assigned', 'Not assigned']\n",
      "['M4E', 'East Toronto', 'The Beaches']\n",
      "['M5E', 'Downtown Toronto', 'Berczy Park']\n",
      "['M6E', 'York', 'Caledonia-Fairbanks']\n",
      "['M7E', 'Not assigned', 'Not assigned']\n",
      "['M8E', 'Not assigned', 'Not assigned']\n",
      "['M9E', 'Not assigned', 'Not assigned']\n",
      "['M1G', 'Scarborough', 'Woburn']\n",
      "['M2G', 'Not assigned', 'Not assigned']\n",
      "['M3G', 'Not assigned', 'Not assigned']\n",
      "['M4G', 'East York', 'Leaside']\n",
      "['M5G', 'Downtown Toronto', 'Central Bay Street']\n",
      "['M6G', 'Downtown Toronto', 'Christie']\n",
      "['M7G', 'Not assigned', 'Not assigned']\n",
      "['M8G', 'Not assigned', 'Not assigned']\n",
      "['M9G', 'Not assigned', 'Not assigned']\n",
      "['M1H', 'Scarborough', 'Cedarbrae']\n",
      "['M2H', 'North York', 'Hillcrest Village']\n",
      "['M3H', 'North York', 'Bathurst Manor']\n",
      "['M3H', 'North York', 'Downsview North']\n",
      "['M3H', 'North York', 'Wilson Heights']\n",
      "['M4H', 'East York', 'Thorncliffe Park']\n",
      "['M5H', 'Downtown Toronto', 'Adelaide']\n",
      "['M5H', 'Downtown Toronto', 'King']\n",
      "['M5H', 'Downtown Toronto', 'Richmond']\n",
      "['M6H', 'West Toronto', 'Dovercourt Village']\n",
      "['M6H', 'West Toronto', 'Dufferin']\n",
      "['M7H', 'Not assigned', 'Not assigned']\n",
      "['M8H', 'Not assigned', 'Not assigned']\n",
      "['M9H', 'Not assigned', 'Not assigned']\n",
      "['M1J', 'Scarborough', 'Scarborough Village']\n",
      "['M2J', 'North York', 'Fairview']\n",
      "['M2J', 'North York', 'Henry Farm']\n",
      "['M2J', 'North York', 'Oriole']\n",
      "['M3J', 'North York', 'Northwood Park']\n",
      "['M3J', 'North York', 'York University']\n",
      "['M4J', 'East York', 'East Toronto']\n",
      "['M5J', 'Downtown Toronto', 'Harbourfront East']\n",
      "['M5J', 'Downtown Toronto', 'Toronto Islands']\n",
      "['M5J', 'Downtown Toronto', 'Union Station']\n",
      "['M6J', 'West Toronto', 'Little Portugal']\n",
      "['M6J', 'West Toronto', 'Trinity']\n",
      "['M7J', 'Not assigned', 'Not assigned']\n",
      "['M8J', 'Not assigned', 'Not assigned']\n",
      "['M9J', 'Not assigned', 'Not assigned']\n",
      "['M1K', 'Scarborough', 'East Birchmount Park']\n",
      "['M1K', 'Scarborough', 'Ionview']\n",
      "['M1K', 'Scarborough', 'Kennedy Park']\n",
      "['M2K', 'North York', 'Bayview Village']\n",
      "['M3K', 'North York', 'CFB Toronto']\n",
      "['M3K', 'North York', 'Downsview East']\n",
      "['M4K', 'East Toronto', 'The Danforth West']\n",
      "['M4K', 'East Toronto', 'Riverdale']\n",
      "['M5K', 'Downtown Toronto', 'Design Exchange']\n",
      "['M5K', 'Downtown Toronto', 'Toronto Dominion Centre']\n",
      "['M6K', 'West Toronto', 'Brockton']\n",
      "['M6K', 'West Toronto', 'Exhibition Place']\n",
      "['M6K', 'West Toronto', 'Parkdale Village']\n",
      "['M7K', 'Not assigned', 'Not assigned']\n",
      "['M8K', 'Not assigned', 'Not assigned']\n",
      "['M9K', 'Not assigned', 'Not assigned']\n",
      "['M1L', 'Scarborough', 'Clairlea']\n",
      "['M1L', 'Scarborough', 'Golden Mile']\n",
      "['M1L', 'Scarborough', 'Oakridge']\n",
      "['M2L', 'North York', 'Silver Hills']\n",
      "['M2L', 'North York', 'York Mills']\n",
      "['M3L', 'North York', 'Downsview West']\n",
      "['M4L', 'East Toronto', 'The Beaches West']\n",
      "['M4L', 'East Toronto', 'India Bazaar']\n",
      "['M5L', 'Downtown Toronto', 'Commerce Court']\n",
      "['M5L', 'Downtown Toronto', 'Victoria Hotel']\n",
      "['M6L', 'North York', 'Maple Leaf Park']\n",
      "['M6L', 'North York', 'North Park']\n",
      "['M6L', 'North York', 'Upwood Park']\n",
      "['M7L', 'Not assigned', 'Not assigned']\n",
      "['M8L', 'Not assigned', 'Not assigned']\n",
      "['M9L', 'North York', 'Humber Summit']\n",
      "['M1M', 'Scarborough', 'Cliffcrest']\n",
      "['M1M', 'Scarborough', 'Cliffside']\n",
      "['M1M', 'Scarborough', 'Scarborough Village West']\n",
      "['M2M', 'North York', 'Newtonbrook']\n",
      "['M2M', 'North York', 'Willowdale']\n",
      "['M3M', 'North York', 'Downsview Central']\n",
      "['M4M', 'East Toronto', 'Studio District']\n",
      "['M5M', 'North York', 'Bedford Park']\n",
      "['M5M', 'North York', 'Lawrence Manor East']\n",
      "['M6M', 'York', 'Del Ray']\n",
      "['M6M', 'York', 'Keelsdale']\n",
      "['M6M', 'York', 'Mount Dennis']\n",
      "['M6M', 'York', 'Silverthorn']\n",
      "['M7M', 'Not assigned', 'Not assigned']\n",
      "['M8M', 'Not assigned', 'Not assigned']\n",
      "['M9M', 'North York', 'Emery']\n",
      "['M9M', 'North York', 'Humberlea']\n",
      "['M1N', 'Scarborough', 'Birch Cliff']\n",
      "['M1N', 'Scarborough', 'Cliffside West']\n",
      "['M2N', 'North York', 'Willowdale South']\n",
      "['M3N', 'North York', 'Downsview Northwest']\n",
      "['M4N', 'Central Toronto', 'Lawrence Park']\n",
      "['M5N', 'Central Toronto', 'Roselawn']\n",
      "['M6N', 'York', 'The Junction North']\n",
      "['M6N', 'York', 'Runnymede']\n",
      "['M7N', 'Not assigned', 'Not assigned']\n",
      "['M8N', 'Not assigned', 'Not assigned']\n",
      "['M9N', 'York', 'Weston']\n",
      "['M1P', 'Scarborough', 'Dorset Park']\n",
      "['M1P', 'Scarborough', 'Scarborough Town Centre']\n",
      "['M1P', 'Scarborough', 'Wexford Heights']\n",
      "['M2P', 'North York', 'York Mills West']\n",
      "['M3P', 'Not assigned', 'Not assigned']\n",
      "['M4P', 'Central Toronto', 'Davisville North']\n",
      "['M5P', 'Central Toronto', 'Forest Hill North']\n",
      "['M5P', 'Central Toronto', 'Forest Hill West']\n",
      "['M6P', 'West Toronto', 'High Park']\n",
      "['M6P', 'West Toronto', 'The Junction South']\n",
      "['M7P', 'Not assigned', 'Not assigned']\n",
      "['M8P', 'Not assigned', 'Not assigned']\n",
      "['M9P', 'Etobicoke', 'Westmount']\n",
      "['M1R', 'Scarborough', 'Maryvale']\n",
      "['M1R', 'Scarborough', 'Wexford']\n",
      "['M2R', 'North York', 'Willowdale West']\n",
      "['M3R', 'Not assigned', 'Not assigned']\n",
      "['M4R', 'Central Toronto', 'North Toronto West']\n",
      "['M5R', 'Central Toronto', 'The Annex']\n",
      "['M5R', 'Central Toronto', 'North Midtown']\n",
      "['M5R', 'Central Toronto', 'Yorkville']\n",
      "['M6R', 'West Toronto', 'Parkdale']\n",
      "['M6R', 'West Toronto', 'Roncesvalles']\n",
      "['M7R', 'Mississauga', 'Canada Post Gateway Processing Centre']\n",
      "['M8R', 'Not assigned', 'Not assigned']\n",
      "['M9R', 'Etobicoke', 'Kingsview Village']\n",
      "['M9R', 'Etobicoke', 'Martin Grove Gardens']\n",
      "['M9R', 'Etobicoke', 'Richview Gardens']\n",
      "['M9R', 'Etobicoke', 'St. Phillips']\n",
      "['M1S', 'Scarborough', 'Agincourt']\n",
      "['M2S', 'Not assigned', 'Not assigned']\n",
      "['M3S', 'Not assigned', 'Not assigned']\n",
      "['M4S', 'Central Toronto', 'Davisville']\n",
      "['M5S', 'Downtown Toronto', 'Harbord']\n",
      "['M5S', 'Downtown Toronto', 'University of Toronto']\n",
      "['M6S', 'West Toronto', 'Runnymede']\n",
      "['M6S', 'West Toronto', 'Swansea']\n",
      "['M7S', 'Not assigned', 'Not assigned']\n",
      "['M8S', 'Not assigned', 'Not assigned']\n",
      "['M9S', 'Not assigned', 'Not assigned']\n",
      "['M1T', 'Scarborough', 'Clarks Corners']\n",
      "['M1T', 'Scarborough', 'Sullivan']\n",
      "['M1T', 'Scarborough', \"Tam O'Shanter\"]\n",
      "['M2T', 'Not assigned', 'Not assigned']\n",
      "['M3T', 'Not assigned', 'Not assigned']\n",
      "['M4T', 'Central Toronto', 'Moore Park']\n",
      "['M4T', 'Central Toronto', 'Summerhill East']\n",
      "['M5T', 'Downtown Toronto', 'Chinatown']\n",
      "['M5T', 'Downtown Toronto', 'Grange Park']\n",
      "['M5T', 'Downtown Toronto', 'Kensington Market']\n",
      "['M6T', 'Not assigned', 'Not assigned']\n",
      "['M7T', 'Not assigned', 'Not assigned']\n",
      "['M8T', 'Not assigned', 'Not assigned']\n",
      "['M9T', 'Not assigned', 'Not assigned']\n",
      "['M1V', 'Scarborough', 'Agincourt North']\n",
      "['M1V', 'Scarborough', \"L'Amoreaux East\"]\n",
      "['M1V', 'Scarborough', 'Milliken']\n",
      "['M1V', 'Scarborough', 'Steeles East']\n",
      "['M2V', 'Not assigned', 'Not assigned']\n",
      "['M3V', 'Not assigned', 'Not assigned']\n",
      "['M4V', 'Central Toronto', 'Deer Park']\n",
      "['M4V', 'Central Toronto', 'Forest Hill SE']\n",
      "['M4V', 'Central Toronto', 'Rathnelly']\n",
      "['M4V', 'Central Toronto', 'South Hill']\n",
      "['M4V', 'Central Toronto', 'Summerhill West']\n",
      "['M5V', 'Downtown Toronto', 'CN Tower']\n",
      "['M5V', 'Downtown Toronto', 'Bathurst Quay']\n",
      "['M5V', 'Downtown Toronto', 'Island airport']\n",
      "['M5V', 'Downtown Toronto', 'Harbourfront West']\n",
      "['M5V', 'Downtown Toronto', 'King and Spadina']\n",
      "['M5V', 'Downtown Toronto', 'Railway Lands']\n",
      "['M5V', 'Downtown Toronto', 'South Niagara']\n",
      "['M6V', 'Not assigned', 'Not assigned']\n",
      "['M7V', 'Not assigned', 'Not assigned']\n",
      "['M8V', 'Etobicoke', 'Humber Bay Shores']\n",
      "['M8V', 'Etobicoke', 'Mimico South']\n",
      "['M8V', 'Etobicoke', 'New Toronto']\n",
      "['M9V', 'Etobicoke', 'Albion Gardens']\n",
      "['M9V', 'Etobicoke', 'Beaumond Heights']\n",
      "['M9V', 'Etobicoke', 'Humbergate']\n",
      "['M9V', 'Etobicoke', 'Jamestown']\n",
      "['M9V', 'Etobicoke', 'Mount Olive']\n",
      "['M9V', 'Etobicoke', 'Silverstone']\n",
      "['M9V', 'Etobicoke', 'South Steeles']\n",
      "['M9V', 'Etobicoke', 'Thistletown']\n",
      "['M1W', 'Scarborough', \"L'Amoreaux West\"]\n",
      "['M1W', 'Scarborough', 'Steeles West']\n",
      "['M2W', 'Not assigned', 'Not assigned']\n",
      "['M3W', 'Not assigned', 'Not assigned']\n",
      "['M4W', 'Downtown Toronto', 'Rosedale']\n",
      "['M5W', 'Downtown Toronto', 'Stn A PO Boxes 25 The Esplanade']\n",
      "['M6W', 'Not assigned', 'Not assigned']\n",
      "['M7W', 'Not assigned', 'Not assigned']\n",
      "['M8W', 'Etobicoke', 'Alderwood']\n",
      "['M8W', 'Etobicoke', 'Long Branch']\n",
      "['M9W', 'Etobicoke', 'Northwest']\n",
      "['M1X', 'Scarborough', 'Upper Rouge']\n",
      "['M2X', 'Not assigned', 'Not assigned']\n",
      "['M3X', 'Not assigned', 'Not assigned']\n",
      "['M4X', 'Downtown Toronto', 'Cabbagetown']\n",
      "['M4X', 'Downtown Toronto', 'St. James Town']\n",
      "['M5X', 'Downtown Toronto', 'First Canadian Place']\n",
      "['M5X', 'Downtown Toronto', 'Underground city']\n",
      "['M6X', 'Not assigned', 'Not assigned']\n",
      "['M7X', 'Not assigned', 'Not assigned']\n",
      "['M8X', 'Etobicoke', 'The Kingsway']\n",
      "['M8X', 'Etobicoke', 'Montgomery Road']\n",
      "['M8X', 'Etobicoke', 'Old Mill North']\n",
      "['M9X', 'Not assigned', 'Not assigned']\n",
      "['M1Y', 'Not assigned', 'Not assigned']\n",
      "['M2Y', 'Not assigned', 'Not assigned']\n",
      "['M3Y', 'Not assigned', 'Not assigned']\n",
      "['M4Y', 'Downtown Toronto', 'Church and Wellesley']\n",
      "['M5Y', 'Not assigned', 'Not assigned']\n",
      "['M6Y', 'Not assigned', 'Not assigned']\n",
      "['M7Y', 'East Toronto', 'Business reply mail Processing Centre969 Eastern']\n",
      "['M8Y', 'Etobicoke', 'Humber Bay']\n",
      "['M8Y', 'Etobicoke', \"King's Mill Park\"]\n",
      "['M8Y', 'Etobicoke', 'Kingsway Park South East']\n",
      "['M8Y', 'Etobicoke', 'Mimico NE']\n",
      "['M8Y', 'Etobicoke', 'Old Mill South']\n",
      "['M8Y', 'Etobicoke', 'The Queensway East']\n",
      "['M8Y', 'Etobicoke', 'Royal York South East']\n",
      "['M8Y', 'Etobicoke', 'Sunnylea']\n",
      "['M9Y', 'Not assigned', 'Not assigned']\n",
      "['M1Z', 'Not assigned', 'Not assigned']\n",
      "['M2Z', 'Not assigned', 'Not assigned']\n",
      "['M3Z', 'Not assigned', 'Not assigned']\n",
      "['M4Z', 'Not assigned', 'Not assigned']\n",
      "['M5Z', 'Not assigned', 'Not assigned']\n",
      "['M6Z', 'Not assigned', 'Not assigned']\n",
      "['M7Z', 'Not assigned', 'Not assigned']\n",
      "['M8Z', 'Etobicoke', 'Kingsway Park South West']\n",
      "['M8Z', 'Etobicoke', 'Mimico NW']\n",
      "['M8Z', 'Etobicoke', 'The Queensway West']\n",
      "['M8Z', 'Etobicoke', 'Royal York South West']\n",
      "['M8Z', 'Etobicoke', 'South of Bloor']\n",
      "['', '']\n",
      "['NL', 'NS', 'PE', 'NB', 'QC', 'ON', 'MB', 'SK', 'AB', 'BC', 'NU/NT', 'YT']\n"
     ]
    }
   ],
   "source": [
    "# find all elements of type td (table data) within type tr (table row) and return in list\n",
    "def filter_rows(tag):\n",
    "    return tag.name == \"tr\" and \\\n",
    "           tag.find_next_sibling(\"tr\")\n",
    "\n",
    "for row in page_soup.find_all(filter_rows):\n",
    "    print([td.get_text(strip=True) for td in row.find_all(\"td\")])"
   ]
  },
  {
   "cell_type": "code",
   "execution_count": 16,
   "metadata": {},
   "outputs": [
    {
     "name": "stdout",
     "output_type": "stream",
     "text": [
      "PostalCode      289\n",
      "Borough         289\n",
      "Neighborhood    289\n",
      "dtype: int64\n",
      "Total of: 0 removed.\n"
     ]
    }
   ],
   "source": [
    "# attempt all-in-one; not working - need to revisit\n",
    "# return labels and attributes into a dataframe\n",
    "table = page_soup.find('table', attrs={'class':'wikitable sortable'})\n",
    "table_rows = table.find_all('tr')\n",
    "\n",
    "nas = 0\n",
    "res = []\n",
    "for tr in table_rows:\n",
    "    td = tr.find_all('td')\n",
    "    row = [tr.text.strip('\\n') for tr in td]\n",
    "    if td[2::3] is \"Not assigned\":\n",
    "        nas = nas + 1\n",
    "    else:\n",
    "        res.append(row)\n",
    "\n",
    "df = pd.DataFrame(res, columns=[\"PostalCode\", \"Borough\", \"Neighborhood\"])\n",
    "print(df.count())\n",
    "print(\"Total of: \" + str(nas) + \" removed.\")"
   ]
  },
  {
   "cell_type": "code",
   "execution_count": 17,
   "metadata": {},
   "outputs": [
    {
     "name": "stdout",
     "output_type": "stream",
     "text": [
      "PostalCode      211\n",
      "Borough         211\n",
      "Neighborhood    211\n",
      "dtype: int64\n",
      "Total of: 78 removed.\n"
     ]
    }
   ],
   "source": [
    "# return labels and attributes into a dataframe\n",
    "table = page_soup.find('table', attrs={'class':'wikitable sortable'})\n",
    "table_rows = table.find_all('tr')\n",
    "\n",
    "nas = 0\n",
    "res = []\n",
    "for tr in table_rows:\n",
    "    td = tr.find_all('td')\n",
    "    row = [tr.text.strip('\\n') for tr in td]\n",
    "    if \"Not assigned\" in row:\n",
    "        nas = nas + 1\n",
    "    else:\n",
    "        res.append(row)\n",
    "\n",
    "df = pd.DataFrame(res, columns=[\"PostalCode\", \"Borough\", \"Neighborhood\"])\n",
    "print(df.count())\n",
    "print(\"Total of: \" + str(nas) + \" removed.\")"
   ]
  },
  {
   "cell_type": "markdown",
   "metadata": {},
   "source": [
    "<h5>3A. The dataframe will consist of three columns: PostalCode, Borough, and Neighborhood.</h5>"
   ]
  },
  {
   "cell_type": "code",
   "execution_count": 18,
   "metadata": {},
   "outputs": [
    {
     "data": {
      "text/html": [
       "<div>\n",
       "<style scoped>\n",
       "    .dataframe tbody tr th:only-of-type {\n",
       "        vertical-align: middle;\n",
       "    }\n",
       "\n",
       "    .dataframe tbody tr th {\n",
       "        vertical-align: top;\n",
       "    }\n",
       "\n",
       "    .dataframe thead th {\n",
       "        text-align: right;\n",
       "    }\n",
       "</style>\n",
       "<table border=\"1\" class=\"dataframe\">\n",
       "  <thead>\n",
       "    <tr style=\"text-align: right;\">\n",
       "      <th></th>\n",
       "      <th>PostalCode</th>\n",
       "      <th>Borough</th>\n",
       "      <th>Neighborhood</th>\n",
       "    </tr>\n",
       "  </thead>\n",
       "  <tbody>\n",
       "    <tr>\n",
       "      <th>0</th>\n",
       "      <td>None</td>\n",
       "      <td>None</td>\n",
       "      <td>None</td>\n",
       "    </tr>\n",
       "    <tr>\n",
       "      <th>1</th>\n",
       "      <td>M3A</td>\n",
       "      <td>North York</td>\n",
       "      <td>Parkwoods</td>\n",
       "    </tr>\n",
       "    <tr>\n",
       "      <th>2</th>\n",
       "      <td>M4A</td>\n",
       "      <td>North York</td>\n",
       "      <td>Victoria Village</td>\n",
       "    </tr>\n",
       "    <tr>\n",
       "      <th>3</th>\n",
       "      <td>M5A</td>\n",
       "      <td>Downtown Toronto</td>\n",
       "      <td>Harbourfront</td>\n",
       "    </tr>\n",
       "    <tr>\n",
       "      <th>4</th>\n",
       "      <td>M5A</td>\n",
       "      <td>Downtown Toronto</td>\n",
       "      <td>Regent Park</td>\n",
       "    </tr>\n",
       "  </tbody>\n",
       "</table>\n",
       "</div>"
      ],
      "text/plain": [
       "  PostalCode           Borough      Neighborhood\n",
       "0       None              None              None\n",
       "1        M3A        North York         Parkwoods\n",
       "2        M4A        North York  Victoria Village\n",
       "3        M5A  Downtown Toronto      Harbourfront\n",
       "4        M5A  Downtown Toronto       Regent Park"
      ]
     },
     "execution_count": 18,
     "metadata": {},
     "output_type": "execute_result"
    }
   ],
   "source": [
    "df.head()"
   ]
  },
  {
   "cell_type": "code",
   "execution_count": 19,
   "metadata": {},
   "outputs": [
    {
     "data": {
      "text/html": [
       "<div>\n",
       "<style scoped>\n",
       "    .dataframe tbody tr th:only-of-type {\n",
       "        vertical-align: middle;\n",
       "    }\n",
       "\n",
       "    .dataframe tbody tr th {\n",
       "        vertical-align: top;\n",
       "    }\n",
       "\n",
       "    .dataframe thead th {\n",
       "        text-align: right;\n",
       "    }\n",
       "</style>\n",
       "<table border=\"1\" class=\"dataframe\">\n",
       "  <thead>\n",
       "    <tr style=\"text-align: right;\">\n",
       "      <th></th>\n",
       "      <th>PostalCode</th>\n",
       "      <th>Borough</th>\n",
       "      <th>Neighborhood</th>\n",
       "    </tr>\n",
       "  </thead>\n",
       "  <tbody>\n",
       "    <tr>\n",
       "      <th>207</th>\n",
       "      <td>M8Z</td>\n",
       "      <td>Etobicoke</td>\n",
       "      <td>Kingsway Park South West</td>\n",
       "    </tr>\n",
       "    <tr>\n",
       "      <th>208</th>\n",
       "      <td>M8Z</td>\n",
       "      <td>Etobicoke</td>\n",
       "      <td>Mimico NW</td>\n",
       "    </tr>\n",
       "    <tr>\n",
       "      <th>209</th>\n",
       "      <td>M8Z</td>\n",
       "      <td>Etobicoke</td>\n",
       "      <td>The Queensway West</td>\n",
       "    </tr>\n",
       "    <tr>\n",
       "      <th>210</th>\n",
       "      <td>M8Z</td>\n",
       "      <td>Etobicoke</td>\n",
       "      <td>Royal York South West</td>\n",
       "    </tr>\n",
       "    <tr>\n",
       "      <th>211</th>\n",
       "      <td>M8Z</td>\n",
       "      <td>Etobicoke</td>\n",
       "      <td>South of Bloor</td>\n",
       "    </tr>\n",
       "  </tbody>\n",
       "</table>\n",
       "</div>"
      ],
      "text/plain": [
       "    PostalCode    Borough              Neighborhood\n",
       "207        M8Z  Etobicoke  Kingsway Park South West\n",
       "208        M8Z  Etobicoke                 Mimico NW\n",
       "209        M8Z  Etobicoke        The Queensway West\n",
       "210        M8Z  Etobicoke     Royal York South West\n",
       "211        M8Z  Etobicoke            South of Bloor"
      ]
     },
     "execution_count": 19,
     "metadata": {},
     "output_type": "execute_result"
    }
   ],
   "source": [
    "df.tail()"
   ]
  },
  {
   "cell_type": "code",
   "execution_count": 20,
   "metadata": {},
   "outputs": [
    {
     "data": {
      "text/html": [
       "<div>\n",
       "<style scoped>\n",
       "    .dataframe tbody tr th:only-of-type {\n",
       "        vertical-align: middle;\n",
       "    }\n",
       "\n",
       "    .dataframe tbody tr th {\n",
       "        vertical-align: top;\n",
       "    }\n",
       "\n",
       "    .dataframe thead th {\n",
       "        text-align: right;\n",
       "    }\n",
       "</style>\n",
       "<table border=\"1\" class=\"dataframe\">\n",
       "  <thead>\n",
       "    <tr style=\"text-align: right;\">\n",
       "      <th></th>\n",
       "      <th>PostalCode</th>\n",
       "      <th>Borough</th>\n",
       "      <th>Neighborhood</th>\n",
       "    </tr>\n",
       "  </thead>\n",
       "  <tbody>\n",
       "    <tr>\n",
       "      <th>0</th>\n",
       "      <td>None</td>\n",
       "      <td>None</td>\n",
       "      <td>None</td>\n",
       "    </tr>\n",
       "    <tr>\n",
       "      <th>1</th>\n",
       "      <td>M3A</td>\n",
       "      <td>North York</td>\n",
       "      <td>Parkwoods</td>\n",
       "    </tr>\n",
       "    <tr>\n",
       "      <th>2</th>\n",
       "      <td>M4A</td>\n",
       "      <td>North York</td>\n",
       "      <td>Victoria Village</td>\n",
       "    </tr>\n",
       "    <tr>\n",
       "      <th>3</th>\n",
       "      <td>M5A</td>\n",
       "      <td>Downtown Toronto</td>\n",
       "      <td>Harbourfront</td>\n",
       "    </tr>\n",
       "    <tr>\n",
       "      <th>4</th>\n",
       "      <td>M5A</td>\n",
       "      <td>Downtown Toronto</td>\n",
       "      <td>Regent Park</td>\n",
       "    </tr>\n",
       "  </tbody>\n",
       "</table>\n",
       "</div>"
      ],
      "text/plain": [
       "  PostalCode           Borough      Neighborhood\n",
       "0       None              None              None\n",
       "1        M3A        North York         Parkwoods\n",
       "2        M4A        North York  Victoria Village\n",
       "3        M5A  Downtown Toronto      Harbourfront\n",
       "4        M5A  Downtown Toronto       Regent Park"
      ]
     },
     "execution_count": 20,
     "metadata": {},
     "output_type": "execute_result"
    }
   ],
   "source": [
    "# Remove row \"None\"\n",
    "df.drop(df.index[0])\n",
    "df.head()"
   ]
  },
  {
   "cell_type": "markdown",
   "metadata": {},
   "source": [
    "<h5>3B. Only process the cells that have an assigned borough. Ignore cells with a borough that is Not assigned.</h5>"
   ]
  },
  {
   "cell_type": "code",
   "execution_count": 21,
   "metadata": {},
   "outputs": [
    {
     "name": "stdout",
     "output_type": "stream",
     "text": [
      "<class 'pandas.core.series.Series'>\n"
     ]
    },
    {
     "data": {
      "text/plain": [
       "0    False\n",
       "1    False\n",
       "2    False\n",
       "3    False\n",
       "4    False\n",
       "Name: Borough, dtype: bool"
      ]
     },
     "execution_count": 21,
     "metadata": {},
     "output_type": "execute_result"
    }
   ],
   "source": [
    "# create new dataframe to hold ANY Boroughs with values of \"Not assigned\"\n",
    "nasdf = df.Borough == \"Not assigned\"\n",
    "print(type(nasdf))\n",
    "nasdf.head()"
   ]
  },
  {
   "cell_type": "code",
   "execution_count": 22,
   "metadata": {},
   "outputs": [
    {
     "name": "stdout",
     "output_type": "stream",
     "text": [
      "There are 0 rows with the value of Not assigned.\n"
     ]
    }
   ],
   "source": [
    "# confirm 0 rows for nasdf (\"Not assigned\")\n",
    "print(\"There are \" + str(df[nasdf].shape[0]) + \" rows with the value of Not assigned.\")"
   ]
  },
  {
   "cell_type": "markdown",
   "metadata": {},
   "source": [
    "<h5>3C. More than one neighborhood can exist in one postal code area.</h5>"
   ]
  },
  {
   "cell_type": "code",
   "execution_count": 23,
   "metadata": {},
   "outputs": [
    {
     "data": {
      "text/plain": [
       "True     109\n",
       "False    103\n",
       "Name: PostalCode, dtype: int64"
      ]
     },
     "execution_count": 23,
     "metadata": {},
     "output_type": "execute_result"
    }
   ],
   "source": [
    "# confirm total duplicates in column PostalCode\n",
    "dups = df.PostalCode.duplicated().value_counts()\n",
    "dups"
   ]
  },
  {
   "cell_type": "code",
   "execution_count": 24,
   "metadata": {},
   "outputs": [
    {
     "data": {
      "text/html": [
       "<div>\n",
       "<style scoped>\n",
       "    .dataframe tbody tr th:only-of-type {\n",
       "        vertical-align: middle;\n",
       "    }\n",
       "\n",
       "    .dataframe tbody tr th {\n",
       "        vertical-align: top;\n",
       "    }\n",
       "\n",
       "    .dataframe thead th {\n",
       "        text-align: right;\n",
       "    }\n",
       "</style>\n",
       "<table border=\"1\" class=\"dataframe\">\n",
       "  <thead>\n",
       "    <tr style=\"text-align: right;\">\n",
       "      <th></th>\n",
       "      <th>PostalCode</th>\n",
       "      <th>Borough</th>\n",
       "      <th>Neighborhood</th>\n",
       "    </tr>\n",
       "  </thead>\n",
       "  <tbody>\n",
       "    <tr>\n",
       "      <th>0</th>\n",
       "      <td>None</td>\n",
       "      <td>None</td>\n",
       "      <td>None</td>\n",
       "    </tr>\n",
       "    <tr>\n",
       "      <th>1</th>\n",
       "      <td>M3A</td>\n",
       "      <td>North York</td>\n",
       "      <td>Parkwoods</td>\n",
       "    </tr>\n",
       "    <tr>\n",
       "      <th>2</th>\n",
       "      <td>M4A</td>\n",
       "      <td>North York</td>\n",
       "      <td>Victoria Village</td>\n",
       "    </tr>\n",
       "    <tr>\n",
       "      <th>3</th>\n",
       "      <td>M5A</td>\n",
       "      <td>Downtown Toronto</td>\n",
       "      <td>Harbourfront</td>\n",
       "    </tr>\n",
       "    <tr>\n",
       "      <th>4</th>\n",
       "      <td>M5A</td>\n",
       "      <td>Downtown Toronto</td>\n",
       "      <td>Regent Park</td>\n",
       "    </tr>\n",
       "  </tbody>\n",
       "</table>\n",
       "</div>"
      ],
      "text/plain": [
       "  PostalCode           Borough      Neighborhood\n",
       "0       None              None              None\n",
       "1        M3A        North York         Parkwoods\n",
       "2        M4A        North York  Victoria Village\n",
       "3        M5A  Downtown Toronto      Harbourfront\n",
       "4        M5A  Downtown Toronto       Regent Park"
      ]
     },
     "execution_count": 24,
     "metadata": {},
     "output_type": "execute_result"
    }
   ],
   "source": [
    "# create new dataframe for duplicate PostalCode rows - to test\n",
    "dups = df\n",
    "dups.head()"
   ]
  },
  {
   "cell_type": "code",
   "execution_count": 25,
   "metadata": {},
   "outputs": [
    {
     "data": {
      "text/html": [
       "<div>\n",
       "<style scoped>\n",
       "    .dataframe tbody tr th:only-of-type {\n",
       "        vertical-align: middle;\n",
       "    }\n",
       "\n",
       "    .dataframe tbody tr th {\n",
       "        vertical-align: top;\n",
       "    }\n",
       "\n",
       "    .dataframe thead th {\n",
       "        text-align: right;\n",
       "    }\n",
       "</style>\n",
       "<table border=\"1\" class=\"dataframe\">\n",
       "  <thead>\n",
       "    <tr style=\"text-align: right;\">\n",
       "      <th></th>\n",
       "      <th>PostalCode</th>\n",
       "      <th>Borough</th>\n",
       "      <th>Neighborhood</th>\n",
       "    </tr>\n",
       "  </thead>\n",
       "  <tbody>\n",
       "    <tr>\n",
       "      <th>3</th>\n",
       "      <td>M5A</td>\n",
       "      <td>Downtown Toronto</td>\n",
       "      <td>Harbourfront</td>\n",
       "    </tr>\n",
       "    <tr>\n",
       "      <th>4</th>\n",
       "      <td>M5A</td>\n",
       "      <td>Downtown Toronto</td>\n",
       "      <td>Regent Park</td>\n",
       "    </tr>\n",
       "    <tr>\n",
       "      <th>5</th>\n",
       "      <td>M6A</td>\n",
       "      <td>North York</td>\n",
       "      <td>Lawrence Heights</td>\n",
       "    </tr>\n",
       "    <tr>\n",
       "      <th>6</th>\n",
       "      <td>M6A</td>\n",
       "      <td>North York</td>\n",
       "      <td>Lawrence Manor</td>\n",
       "    </tr>\n",
       "    <tr>\n",
       "      <th>8</th>\n",
       "      <td>M1B</td>\n",
       "      <td>Scarborough</td>\n",
       "      <td>Rouge</td>\n",
       "    </tr>\n",
       "  </tbody>\n",
       "</table>\n",
       "</div>"
      ],
      "text/plain": [
       "  PostalCode           Borough      Neighborhood\n",
       "3        M5A  Downtown Toronto      Harbourfront\n",
       "4        M5A  Downtown Toronto       Regent Park\n",
       "5        M6A        North York  Lawrence Heights\n",
       "6        M6A        North York    Lawrence Manor\n",
       "8        M1B       Scarborough             Rouge"
      ]
     },
     "execution_count": 25,
     "metadata": {},
     "output_type": "execute_result"
    }
   ],
   "source": [
    "# show dups (before)\n",
    "dups = df[df.duplicated(['PostalCode'], keep=False)]\n",
    "dups.head()"
   ]
  },
  {
   "cell_type": "code",
   "execution_count": 26,
   "metadata": {},
   "outputs": [
    {
     "data": {
      "text/html": [
       "<div>\n",
       "<style scoped>\n",
       "    .dataframe tbody tr th:only-of-type {\n",
       "        vertical-align: middle;\n",
       "    }\n",
       "\n",
       "    .dataframe tbody tr th {\n",
       "        vertical-align: top;\n",
       "    }\n",
       "\n",
       "    .dataframe thead th {\n",
       "        text-align: right;\n",
       "    }\n",
       "</style>\n",
       "<table border=\"1\" class=\"dataframe\">\n",
       "  <thead>\n",
       "    <tr style=\"text-align: right;\">\n",
       "      <th></th>\n",
       "      <th>PostalCode</th>\n",
       "      <th>Borough</th>\n",
       "      <th>Neighborhood</th>\n",
       "    </tr>\n",
       "  </thead>\n",
       "  <tbody>\n",
       "    <tr>\n",
       "      <th>207</th>\n",
       "      <td>M8Z</td>\n",
       "      <td>Etobicoke</td>\n",
       "      <td>Kingsway Park South West</td>\n",
       "    </tr>\n",
       "    <tr>\n",
       "      <th>208</th>\n",
       "      <td>M8Z</td>\n",
       "      <td>Etobicoke</td>\n",
       "      <td>Mimico NW</td>\n",
       "    </tr>\n",
       "    <tr>\n",
       "      <th>209</th>\n",
       "      <td>M8Z</td>\n",
       "      <td>Etobicoke</td>\n",
       "      <td>The Queensway West</td>\n",
       "    </tr>\n",
       "    <tr>\n",
       "      <th>210</th>\n",
       "      <td>M8Z</td>\n",
       "      <td>Etobicoke</td>\n",
       "      <td>Royal York South West</td>\n",
       "    </tr>\n",
       "    <tr>\n",
       "      <th>211</th>\n",
       "      <td>M8Z</td>\n",
       "      <td>Etobicoke</td>\n",
       "      <td>South of Bloor</td>\n",
       "    </tr>\n",
       "  </tbody>\n",
       "</table>\n",
       "</div>"
      ],
      "text/plain": [
       "    PostalCode    Borough              Neighborhood\n",
       "207        M8Z  Etobicoke  Kingsway Park South West\n",
       "208        M8Z  Etobicoke                 Mimico NW\n",
       "209        M8Z  Etobicoke        The Queensway West\n",
       "210        M8Z  Etobicoke     Royal York South West\n",
       "211        M8Z  Etobicoke            South of Bloor"
      ]
     },
     "execution_count": 26,
     "metadata": {},
     "output_type": "execute_result"
    }
   ],
   "source": [
    "dups.tail()"
   ]
  },
  {
   "cell_type": "code",
   "execution_count": 27,
   "metadata": {},
   "outputs": [
    {
     "name": "stdout",
     "output_type": "stream",
     "text": [
      "Datatype - PostalCode: object\n",
      "Datatype - Borough: object\n",
      "Datatype - Neighborhood: object\n"
     ]
    }
   ],
   "source": [
    "# confirm column datatypes (before)\n",
    "print(\"Datatype - PostalCode: \" + str(dups.PostalCode.dtype))\n",
    "print(\"Datatype - Borough: \" + str(dups.Borough.dtype))\n",
    "print(\"Datatype - Neighborhood: \" + str(dups.Neighborhood.dtype))"
   ]
  },
  {
   "cell_type": "code",
   "execution_count": 28,
   "metadata": {},
   "outputs": [
    {
     "data": {
      "text/plain": [
       "True     109\n",
       "False     58\n",
       "dtype: int64"
      ]
     },
     "execution_count": 28,
     "metadata": {},
     "output_type": "execute_result"
    }
   ],
   "source": [
    "# show duplicate counts (after)\n",
    "dups.duplicated(['PostalCode','Borough']).value_counts()\n",
    "#dups.PostalCode.duplicated().value_counts()"
   ]
  },
  {
   "cell_type": "code",
   "execution_count": 29,
   "metadata": {},
   "outputs": [
    {
     "data": {
      "text/plain": [
       "PostalCode  Borough    \n",
       "M1B         Scarborough                            Rouge, Malvern\n",
       "M1C         Scarborough    Highland Creek, Rouge Hill, Port Union\n",
       "M1E         Scarborough         Guildwood, Morningside, West Hill\n",
       "M1G         Scarborough                                    Woburn\n",
       "M1H         Scarborough                                 Cedarbrae\n",
       "Name: Neighborhood, dtype: object"
      ]
     },
     "execution_count": 29,
     "metadata": {},
     "output_type": "execute_result"
    }
   ],
   "source": [
    "# use apply method to combine Neighborhood values for duplicate PostalCode/Borough values\n",
    "dfCons = df.groupby(['PostalCode','Borough'])['Neighborhood'].apply(lambda x: \"%s\" % ', '.join(x))\n",
    "dfCons.head()"
   ]
  },
  {
   "cell_type": "code",
   "execution_count": 30,
   "metadata": {},
   "outputs": [
    {
     "data": {
      "text/plain": [
       "PostalCode  Borough    \n",
       "M1B         Scarborough                            Rouge, Malvern\n",
       "M1C         Scarborough    Highland Creek, Rouge Hill, Port Union\n",
       "M1E         Scarborough         Guildwood, Morningside, West Hill\n",
       "M1G         Scarborough                                    Woburn\n",
       "M1H         Scarborough                                 Cedarbrae\n",
       "Name: Neighborhood, dtype: object"
      ]
     },
     "execution_count": 30,
     "metadata": {},
     "output_type": "execute_result"
    }
   ],
   "source": [
    "#dfCons.columns = ['PostalCode','Borough','Neighborhood']\n",
    "dfCons.head()"
   ]
  },
  {
   "cell_type": "code",
   "execution_count": 31,
   "metadata": {},
   "outputs": [
    {
     "data": {
      "text/plain": [
       "PostalCode  Borough  \n",
       "M9N         York                                                    Weston\n",
       "M9P         Etobicoke                                            Westmount\n",
       "M9R         Etobicoke    Kingsview Village, Martin Grove Gardens, Richv...\n",
       "M9V         Etobicoke    Albion Gardens, Beaumond Heights, Humbergate, ...\n",
       "M9W         Etobicoke                                            Northwest\n",
       "Name: Neighborhood, dtype: object"
      ]
     },
     "execution_count": 31,
     "metadata": {},
     "output_type": "execute_result"
    }
   ],
   "source": [
    "dfCons.tail()"
   ]
  },
  {
   "cell_type": "code",
   "execution_count": 32,
   "metadata": {},
   "outputs": [
    {
     "data": {
      "text/plain": [
       "102"
      ]
     },
     "execution_count": 32,
     "metadata": {},
     "output_type": "execute_result"
    }
   ],
   "source": [
    "dfCons.shape[0]"
   ]
  },
  {
   "cell_type": "code",
   "execution_count": 33,
   "metadata": {},
   "outputs": [
    {
     "data": {
      "text/html": [
       "<div>\n",
       "<style scoped>\n",
       "    .dataframe tbody tr th:only-of-type {\n",
       "        vertical-align: middle;\n",
       "    }\n",
       "\n",
       "    .dataframe tbody tr th {\n",
       "        vertical-align: top;\n",
       "    }\n",
       "\n",
       "    .dataframe thead th {\n",
       "        text-align: right;\n",
       "    }\n",
       "</style>\n",
       "<table border=\"1\" class=\"dataframe\">\n",
       "  <thead>\n",
       "    <tr style=\"text-align: right;\">\n",
       "      <th></th>\n",
       "      <th>PostalCode</th>\n",
       "      <th>Borough</th>\n",
       "      <th>Neighborhood</th>\n",
       "    </tr>\n",
       "  </thead>\n",
       "  <tbody>\n",
       "    <tr>\n",
       "      <th>0</th>\n",
       "      <td>M1B</td>\n",
       "      <td>Scarborough</td>\n",
       "      <td>Rouge, Malvern</td>\n",
       "    </tr>\n",
       "    <tr>\n",
       "      <th>1</th>\n",
       "      <td>M1C</td>\n",
       "      <td>Scarborough</td>\n",
       "      <td>Highland Creek, Rouge Hill, Port Union</td>\n",
       "    </tr>\n",
       "    <tr>\n",
       "      <th>2</th>\n",
       "      <td>M1E</td>\n",
       "      <td>Scarborough</td>\n",
       "      <td>Guildwood, Morningside, West Hill</td>\n",
       "    </tr>\n",
       "    <tr>\n",
       "      <th>3</th>\n",
       "      <td>M1G</td>\n",
       "      <td>Scarborough</td>\n",
       "      <td>Woburn</td>\n",
       "    </tr>\n",
       "    <tr>\n",
       "      <th>4</th>\n",
       "      <td>M1H</td>\n",
       "      <td>Scarborough</td>\n",
       "      <td>Cedarbrae</td>\n",
       "    </tr>\n",
       "    <tr>\n",
       "      <th>5</th>\n",
       "      <td>M1J</td>\n",
       "      <td>Scarborough</td>\n",
       "      <td>Scarborough Village</td>\n",
       "    </tr>\n",
       "    <tr>\n",
       "      <th>6</th>\n",
       "      <td>M1K</td>\n",
       "      <td>Scarborough</td>\n",
       "      <td>East Birchmount Park, Ionview, Kennedy Park</td>\n",
       "    </tr>\n",
       "    <tr>\n",
       "      <th>7</th>\n",
       "      <td>M1L</td>\n",
       "      <td>Scarborough</td>\n",
       "      <td>Clairlea, Golden Mile, Oakridge</td>\n",
       "    </tr>\n",
       "    <tr>\n",
       "      <th>8</th>\n",
       "      <td>M1M</td>\n",
       "      <td>Scarborough</td>\n",
       "      <td>Cliffcrest, Cliffside, Scarborough Village West</td>\n",
       "    </tr>\n",
       "    <tr>\n",
       "      <th>9</th>\n",
       "      <td>M1N</td>\n",
       "      <td>Scarborough</td>\n",
       "      <td>Birch Cliff, Cliffside West</td>\n",
       "    </tr>\n",
       "    <tr>\n",
       "      <th>10</th>\n",
       "      <td>M1P</td>\n",
       "      <td>Scarborough</td>\n",
       "      <td>Dorset Park, Scarborough Town Centre, Wexford ...</td>\n",
       "    </tr>\n",
       "    <tr>\n",
       "      <th>11</th>\n",
       "      <td>M1R</td>\n",
       "      <td>Scarborough</td>\n",
       "      <td>Maryvale, Wexford</td>\n",
       "    </tr>\n",
       "    <tr>\n",
       "      <th>12</th>\n",
       "      <td>M1S</td>\n",
       "      <td>Scarborough</td>\n",
       "      <td>Agincourt</td>\n",
       "    </tr>\n",
       "    <tr>\n",
       "      <th>13</th>\n",
       "      <td>M1T</td>\n",
       "      <td>Scarborough</td>\n",
       "      <td>Clarks Corners, Sullivan, Tam O'Shanter</td>\n",
       "    </tr>\n",
       "    <tr>\n",
       "      <th>14</th>\n",
       "      <td>M1V</td>\n",
       "      <td>Scarborough</td>\n",
       "      <td>Agincourt North, L'Amoreaux East, Milliken, St...</td>\n",
       "    </tr>\n",
       "    <tr>\n",
       "      <th>15</th>\n",
       "      <td>M1W</td>\n",
       "      <td>Scarborough</td>\n",
       "      <td>L'Amoreaux West, Steeles West</td>\n",
       "    </tr>\n",
       "    <tr>\n",
       "      <th>16</th>\n",
       "      <td>M1X</td>\n",
       "      <td>Scarborough</td>\n",
       "      <td>Upper Rouge</td>\n",
       "    </tr>\n",
       "    <tr>\n",
       "      <th>17</th>\n",
       "      <td>M2H</td>\n",
       "      <td>North York</td>\n",
       "      <td>Hillcrest Village</td>\n",
       "    </tr>\n",
       "    <tr>\n",
       "      <th>18</th>\n",
       "      <td>M2J</td>\n",
       "      <td>North York</td>\n",
       "      <td>Fairview, Henry Farm, Oriole</td>\n",
       "    </tr>\n",
       "    <tr>\n",
       "      <th>19</th>\n",
       "      <td>M2K</td>\n",
       "      <td>North York</td>\n",
       "      <td>Bayview Village</td>\n",
       "    </tr>\n",
       "    <tr>\n",
       "      <th>20</th>\n",
       "      <td>M2L</td>\n",
       "      <td>North York</td>\n",
       "      <td>Silver Hills, York Mills</td>\n",
       "    </tr>\n",
       "    <tr>\n",
       "      <th>21</th>\n",
       "      <td>M2M</td>\n",
       "      <td>North York</td>\n",
       "      <td>Newtonbrook, Willowdale</td>\n",
       "    </tr>\n",
       "    <tr>\n",
       "      <th>22</th>\n",
       "      <td>M2N</td>\n",
       "      <td>North York</td>\n",
       "      <td>Willowdale South</td>\n",
       "    </tr>\n",
       "    <tr>\n",
       "      <th>23</th>\n",
       "      <td>M2P</td>\n",
       "      <td>North York</td>\n",
       "      <td>York Mills West</td>\n",
       "    </tr>\n",
       "    <tr>\n",
       "      <th>24</th>\n",
       "      <td>M2R</td>\n",
       "      <td>North York</td>\n",
       "      <td>Willowdale West</td>\n",
       "    </tr>\n",
       "    <tr>\n",
       "      <th>25</th>\n",
       "      <td>M3A</td>\n",
       "      <td>North York</td>\n",
       "      <td>Parkwoods</td>\n",
       "    </tr>\n",
       "    <tr>\n",
       "      <th>26</th>\n",
       "      <td>M3B</td>\n",
       "      <td>North York</td>\n",
       "      <td>Don Mills North</td>\n",
       "    </tr>\n",
       "    <tr>\n",
       "      <th>27</th>\n",
       "      <td>M3C</td>\n",
       "      <td>North York</td>\n",
       "      <td>Flemingdon Park, Don Mills South</td>\n",
       "    </tr>\n",
       "    <tr>\n",
       "      <th>28</th>\n",
       "      <td>M3H</td>\n",
       "      <td>North York</td>\n",
       "      <td>Bathurst Manor, Downsview North, Wilson Heights</td>\n",
       "    </tr>\n",
       "    <tr>\n",
       "      <th>29</th>\n",
       "      <td>M3J</td>\n",
       "      <td>North York</td>\n",
       "      <td>Northwood Park, York University</td>\n",
       "    </tr>\n",
       "    <tr>\n",
       "      <th>...</th>\n",
       "      <td>...</td>\n",
       "      <td>...</td>\n",
       "      <td>...</td>\n",
       "    </tr>\n",
       "    <tr>\n",
       "      <th>72</th>\n",
       "      <td>M6B</td>\n",
       "      <td>North York</td>\n",
       "      <td>Glencairn</td>\n",
       "    </tr>\n",
       "    <tr>\n",
       "      <th>73</th>\n",
       "      <td>M6C</td>\n",
       "      <td>York</td>\n",
       "      <td>Humewood-Cedarvale</td>\n",
       "    </tr>\n",
       "    <tr>\n",
       "      <th>74</th>\n",
       "      <td>M6E</td>\n",
       "      <td>York</td>\n",
       "      <td>Caledonia-Fairbanks</td>\n",
       "    </tr>\n",
       "    <tr>\n",
       "      <th>75</th>\n",
       "      <td>M6G</td>\n",
       "      <td>Downtown Toronto</td>\n",
       "      <td>Christie</td>\n",
       "    </tr>\n",
       "    <tr>\n",
       "      <th>76</th>\n",
       "      <td>M6H</td>\n",
       "      <td>West Toronto</td>\n",
       "      <td>Dovercourt Village, Dufferin</td>\n",
       "    </tr>\n",
       "    <tr>\n",
       "      <th>77</th>\n",
       "      <td>M6J</td>\n",
       "      <td>West Toronto</td>\n",
       "      <td>Little Portugal, Trinity</td>\n",
       "    </tr>\n",
       "    <tr>\n",
       "      <th>78</th>\n",
       "      <td>M6K</td>\n",
       "      <td>West Toronto</td>\n",
       "      <td>Brockton, Exhibition Place, Parkdale Village</td>\n",
       "    </tr>\n",
       "    <tr>\n",
       "      <th>79</th>\n",
       "      <td>M6L</td>\n",
       "      <td>North York</td>\n",
       "      <td>Maple Leaf Park, North Park, Upwood Park</td>\n",
       "    </tr>\n",
       "    <tr>\n",
       "      <th>80</th>\n",
       "      <td>M6M</td>\n",
       "      <td>York</td>\n",
       "      <td>Del Ray, Keelsdale, Mount Dennis, Silverthorn</td>\n",
       "    </tr>\n",
       "    <tr>\n",
       "      <th>81</th>\n",
       "      <td>M6N</td>\n",
       "      <td>York</td>\n",
       "      <td>The Junction North, Runnymede</td>\n",
       "    </tr>\n",
       "    <tr>\n",
       "      <th>82</th>\n",
       "      <td>M6P</td>\n",
       "      <td>West Toronto</td>\n",
       "      <td>High Park, The Junction South</td>\n",
       "    </tr>\n",
       "    <tr>\n",
       "      <th>83</th>\n",
       "      <td>M6R</td>\n",
       "      <td>West Toronto</td>\n",
       "      <td>Parkdale, Roncesvalles</td>\n",
       "    </tr>\n",
       "    <tr>\n",
       "      <th>84</th>\n",
       "      <td>M6S</td>\n",
       "      <td>West Toronto</td>\n",
       "      <td>Runnymede, Swansea</td>\n",
       "    </tr>\n",
       "    <tr>\n",
       "      <th>85</th>\n",
       "      <td>M7R</td>\n",
       "      <td>Mississauga</td>\n",
       "      <td>Canada Post Gateway Processing Centre</td>\n",
       "    </tr>\n",
       "    <tr>\n",
       "      <th>86</th>\n",
       "      <td>M7Y</td>\n",
       "      <td>East Toronto</td>\n",
       "      <td>Business reply mail Processing Centre969 Eastern</td>\n",
       "    </tr>\n",
       "    <tr>\n",
       "      <th>87</th>\n",
       "      <td>M8V</td>\n",
       "      <td>Etobicoke</td>\n",
       "      <td>Humber Bay Shores, Mimico South, New Toronto</td>\n",
       "    </tr>\n",
       "    <tr>\n",
       "      <th>88</th>\n",
       "      <td>M8W</td>\n",
       "      <td>Etobicoke</td>\n",
       "      <td>Alderwood, Long Branch</td>\n",
       "    </tr>\n",
       "    <tr>\n",
       "      <th>89</th>\n",
       "      <td>M8X</td>\n",
       "      <td>Etobicoke</td>\n",
       "      <td>The Kingsway, Montgomery Road, Old Mill North</td>\n",
       "    </tr>\n",
       "    <tr>\n",
       "      <th>90</th>\n",
       "      <td>M8Y</td>\n",
       "      <td>Etobicoke</td>\n",
       "      <td>Humber Bay, King's Mill Park, Kingsway Park So...</td>\n",
       "    </tr>\n",
       "    <tr>\n",
       "      <th>91</th>\n",
       "      <td>M8Z</td>\n",
       "      <td>Etobicoke</td>\n",
       "      <td>Kingsway Park South West, Mimico NW, The Queen...</td>\n",
       "    </tr>\n",
       "    <tr>\n",
       "      <th>92</th>\n",
       "      <td>M9A</td>\n",
       "      <td>Etobicoke</td>\n",
       "      <td>Islington Avenue</td>\n",
       "    </tr>\n",
       "    <tr>\n",
       "      <th>93</th>\n",
       "      <td>M9B</td>\n",
       "      <td>Etobicoke</td>\n",
       "      <td>Cloverdale, Islington, Martin Grove, Princess ...</td>\n",
       "    </tr>\n",
       "    <tr>\n",
       "      <th>94</th>\n",
       "      <td>M9C</td>\n",
       "      <td>Etobicoke</td>\n",
       "      <td>Bloordale Gardens, Eringate, Markland Wood, Ol...</td>\n",
       "    </tr>\n",
       "    <tr>\n",
       "      <th>95</th>\n",
       "      <td>M9L</td>\n",
       "      <td>North York</td>\n",
       "      <td>Humber Summit</td>\n",
       "    </tr>\n",
       "    <tr>\n",
       "      <th>96</th>\n",
       "      <td>M9M</td>\n",
       "      <td>North York</td>\n",
       "      <td>Emery, Humberlea</td>\n",
       "    </tr>\n",
       "    <tr>\n",
       "      <th>97</th>\n",
       "      <td>M9N</td>\n",
       "      <td>York</td>\n",
       "      <td>Weston</td>\n",
       "    </tr>\n",
       "    <tr>\n",
       "      <th>98</th>\n",
       "      <td>M9P</td>\n",
       "      <td>Etobicoke</td>\n",
       "      <td>Westmount</td>\n",
       "    </tr>\n",
       "    <tr>\n",
       "      <th>99</th>\n",
       "      <td>M9R</td>\n",
       "      <td>Etobicoke</td>\n",
       "      <td>Kingsview Village, Martin Grove Gardens, Richv...</td>\n",
       "    </tr>\n",
       "    <tr>\n",
       "      <th>100</th>\n",
       "      <td>M9V</td>\n",
       "      <td>Etobicoke</td>\n",
       "      <td>Albion Gardens, Beaumond Heights, Humbergate, ...</td>\n",
       "    </tr>\n",
       "    <tr>\n",
       "      <th>101</th>\n",
       "      <td>M9W</td>\n",
       "      <td>Etobicoke</td>\n",
       "      <td>Northwest</td>\n",
       "    </tr>\n",
       "  </tbody>\n",
       "</table>\n",
       "<p>102 rows × 3 columns</p>\n",
       "</div>"
      ],
      "text/plain": [
       "    PostalCode           Borough  \\\n",
       "0          M1B       Scarborough   \n",
       "1          M1C       Scarborough   \n",
       "2          M1E       Scarborough   \n",
       "3          M1G       Scarborough   \n",
       "4          M1H       Scarborough   \n",
       "5          M1J       Scarborough   \n",
       "6          M1K       Scarborough   \n",
       "7          M1L       Scarborough   \n",
       "8          M1M       Scarborough   \n",
       "9          M1N       Scarborough   \n",
       "10         M1P       Scarborough   \n",
       "11         M1R       Scarborough   \n",
       "12         M1S       Scarborough   \n",
       "13         M1T       Scarborough   \n",
       "14         M1V       Scarborough   \n",
       "15         M1W       Scarborough   \n",
       "16         M1X       Scarborough   \n",
       "17         M2H        North York   \n",
       "18         M2J        North York   \n",
       "19         M2K        North York   \n",
       "20         M2L        North York   \n",
       "21         M2M        North York   \n",
       "22         M2N        North York   \n",
       "23         M2P        North York   \n",
       "24         M2R        North York   \n",
       "25         M3A        North York   \n",
       "26         M3B        North York   \n",
       "27         M3C        North York   \n",
       "28         M3H        North York   \n",
       "29         M3J        North York   \n",
       "..         ...               ...   \n",
       "72         M6B        North York   \n",
       "73         M6C              York   \n",
       "74         M6E              York   \n",
       "75         M6G  Downtown Toronto   \n",
       "76         M6H      West Toronto   \n",
       "77         M6J      West Toronto   \n",
       "78         M6K      West Toronto   \n",
       "79         M6L        North York   \n",
       "80         M6M              York   \n",
       "81         M6N              York   \n",
       "82         M6P      West Toronto   \n",
       "83         M6R      West Toronto   \n",
       "84         M6S      West Toronto   \n",
       "85         M7R       Mississauga   \n",
       "86         M7Y      East Toronto   \n",
       "87         M8V         Etobicoke   \n",
       "88         M8W         Etobicoke   \n",
       "89         M8X         Etobicoke   \n",
       "90         M8Y         Etobicoke   \n",
       "91         M8Z         Etobicoke   \n",
       "92         M9A         Etobicoke   \n",
       "93         M9B         Etobicoke   \n",
       "94         M9C         Etobicoke   \n",
       "95         M9L        North York   \n",
       "96         M9M        North York   \n",
       "97         M9N              York   \n",
       "98         M9P         Etobicoke   \n",
       "99         M9R         Etobicoke   \n",
       "100        M9V         Etobicoke   \n",
       "101        M9W         Etobicoke   \n",
       "\n",
       "                                          Neighborhood  \n",
       "0                                       Rouge, Malvern  \n",
       "1               Highland Creek, Rouge Hill, Port Union  \n",
       "2                    Guildwood, Morningside, West Hill  \n",
       "3                                               Woburn  \n",
       "4                                            Cedarbrae  \n",
       "5                                  Scarborough Village  \n",
       "6          East Birchmount Park, Ionview, Kennedy Park  \n",
       "7                      Clairlea, Golden Mile, Oakridge  \n",
       "8      Cliffcrest, Cliffside, Scarborough Village West  \n",
       "9                          Birch Cliff, Cliffside West  \n",
       "10   Dorset Park, Scarborough Town Centre, Wexford ...  \n",
       "11                                   Maryvale, Wexford  \n",
       "12                                           Agincourt  \n",
       "13             Clarks Corners, Sullivan, Tam O'Shanter  \n",
       "14   Agincourt North, L'Amoreaux East, Milliken, St...  \n",
       "15                       L'Amoreaux West, Steeles West  \n",
       "16                                         Upper Rouge  \n",
       "17                                   Hillcrest Village  \n",
       "18                        Fairview, Henry Farm, Oriole  \n",
       "19                                     Bayview Village  \n",
       "20                            Silver Hills, York Mills  \n",
       "21                             Newtonbrook, Willowdale  \n",
       "22                                    Willowdale South  \n",
       "23                                     York Mills West  \n",
       "24                                     Willowdale West  \n",
       "25                                           Parkwoods  \n",
       "26                                     Don Mills North  \n",
       "27                    Flemingdon Park, Don Mills South  \n",
       "28     Bathurst Manor, Downsview North, Wilson Heights  \n",
       "29                     Northwood Park, York University  \n",
       "..                                                 ...  \n",
       "72                                           Glencairn  \n",
       "73                                  Humewood-Cedarvale  \n",
       "74                                 Caledonia-Fairbanks  \n",
       "75                                            Christie  \n",
       "76                        Dovercourt Village, Dufferin  \n",
       "77                            Little Portugal, Trinity  \n",
       "78        Brockton, Exhibition Place, Parkdale Village  \n",
       "79            Maple Leaf Park, North Park, Upwood Park  \n",
       "80       Del Ray, Keelsdale, Mount Dennis, Silverthorn  \n",
       "81                       The Junction North, Runnymede  \n",
       "82                       High Park, The Junction South  \n",
       "83                              Parkdale, Roncesvalles  \n",
       "84                                  Runnymede, Swansea  \n",
       "85               Canada Post Gateway Processing Centre  \n",
       "86    Business reply mail Processing Centre969 Eastern  \n",
       "87        Humber Bay Shores, Mimico South, New Toronto  \n",
       "88                              Alderwood, Long Branch  \n",
       "89       The Kingsway, Montgomery Road, Old Mill North  \n",
       "90   Humber Bay, King's Mill Park, Kingsway Park So...  \n",
       "91   Kingsway Park South West, Mimico NW, The Queen...  \n",
       "92                                    Islington Avenue  \n",
       "93   Cloverdale, Islington, Martin Grove, Princess ...  \n",
       "94   Bloordale Gardens, Eringate, Markland Wood, Ol...  \n",
       "95                                       Humber Summit  \n",
       "96                                    Emery, Humberlea  \n",
       "97                                              Weston  \n",
       "98                                           Westmount  \n",
       "99   Kingsview Village, Martin Grove Gardens, Richv...  \n",
       "100  Albion Gardens, Beaumond Heights, Humbergate, ...  \n",
       "101                                          Northwest  \n",
       "\n",
       "[102 rows x 3 columns]"
      ]
     },
     "execution_count": 33,
     "metadata": {},
     "output_type": "execute_result"
    }
   ],
   "source": [
    "dfCons.reset_index()"
   ]
  },
  {
   "cell_type": "markdown",
   "metadata": {},
   "source": [
    "<h5>3D. If a cell has a borough but a Not assigned neighborhood, then the neighborhood will be the same as the borough.......Completed.</h5>"
   ]
  },
  {
   "cell_type": "code",
   "execution_count": 34,
   "metadata": {},
   "outputs": [
    {
     "name": "stdout",
     "output_type": "stream",
     "text": [
      "There are 0 rows with the value of Not assigned.\n"
     ]
    }
   ],
   "source": [
    "# create new dataframe to hold ANY Boroughs with values of \"Not assigned\"\n",
    "nndf = df.Neighborhood == \"Not assigned\"\n",
    "# confirm 0 rows for nndf (\"Not assigned\")\n",
    "print(\"There are \" + str(df[nndf].shape[0]) + \" rows with the value of Not assigned.\")"
   ]
  },
  {
   "cell_type": "code",
   "execution_count": 35,
   "metadata": {},
   "outputs": [
    {
     "data": {
      "text/html": [
       "<div>\n",
       "<style scoped>\n",
       "    .dataframe tbody tr th:only-of-type {\n",
       "        vertical-align: middle;\n",
       "    }\n",
       "\n",
       "    .dataframe tbody tr th {\n",
       "        vertical-align: top;\n",
       "    }\n",
       "\n",
       "    .dataframe thead th {\n",
       "        text-align: right;\n",
       "    }\n",
       "</style>\n",
       "<table border=\"1\" class=\"dataframe\">\n",
       "  <thead>\n",
       "    <tr style=\"text-align: right;\">\n",
       "      <th></th>\n",
       "      <th>PostalCode</th>\n",
       "      <th>Borough</th>\n",
       "      <th>Neighborhood</th>\n",
       "    </tr>\n",
       "  </thead>\n",
       "  <tbody>\n",
       "  </tbody>\n",
       "</table>\n",
       "</div>"
      ],
      "text/plain": [
       "Empty DataFrame\n",
       "Columns: [PostalCode, Borough, Neighborhood]\n",
       "Index: []"
      ]
     },
     "execution_count": 35,
     "metadata": {},
     "output_type": "execute_result"
    }
   ],
   "source": [
    "df[nndf].head()"
   ]
  },
  {
   "cell_type": "markdown",
   "metadata": {},
   "source": [
    "<h5>3E. Clean your Notebook and add Markdown cells to explain your work and any assumptions you are making.</h5>"
   ]
  },
  {
   "cell_type": "markdown",
   "metadata": {},
   "source": [
    "<h5>3F. In the last cell of your notebook, use the .shape method to print the number of rows of your dataframe.</h5>"
   ]
  },
  {
   "cell_type": "code",
   "execution_count": 36,
   "metadata": {},
   "outputs": [
    {
     "name": "stdout",
     "output_type": "stream",
     "text": [
      "There are a total of 102 rows in the dataframe.\n"
     ]
    }
   ],
   "source": [
    "print(\"There are a total of \" + str(dfCons.shape[0]) + \" rows in the dataframe.\")"
   ]
  },
  {
   "cell_type": "markdown",
   "metadata": {},
   "source": [
    "<h5>4. Submit a link to your Notebook on your Github repository. (10 marks)......Completed.</h5>"
   ]
  },
  {
   "cell_type": "code",
   "execution_count": null,
   "metadata": {},
   "outputs": [],
   "source": []
  }
 ],
 "metadata": {
  "kernelspec": {
   "display_name": "Python 3",
   "language": "python",
   "name": "python3"
  },
  "language_info": {
   "codemirror_mode": {
    "name": "ipython",
    "version": 3
   },
   "file_extension": ".py",
   "mimetype": "text/x-python",
   "name": "python",
   "nbconvert_exporter": "python",
   "pygments_lexer": "ipython3",
   "version": "3.6.5"
  }
 },
 "nbformat": 4,
 "nbformat_minor": 2
}
